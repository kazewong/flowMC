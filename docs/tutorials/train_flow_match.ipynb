{
 "cells": [
  {
   "cell_type": "code",
   "execution_count": 1,
   "id": "e76a4545",
   "metadata": {},
   "outputs": [],
   "source": [
    "import jax\n",
    "import jax.numpy as jnp  # JAX NumPy\n",
    "import optax  # Optimizers\n",
    "import equinox as eqx  # Equinox\n",
    "from diffrax import Dopri5, diffeqsolve, ODETerm, SaveAt\n",
    "\n",
    "from flowMC.resource.model.common import MLP\n",
    "from flowMC.resource.model.flowmatching.base import Solver\n"
   ]
  },
  {
   "cell_type": "code",
   "execution_count": 2,
   "id": "28b5f0dc",
   "metadata": {},
   "outputs": [],
   "source": [
    "model = MLP([3,16,16,2], jax.random.PRNGKey(0), activation=jax.nn.swish)\n",
    "# solver = Dopri5()\n",
    "# def wrapper(t, y, args):\n",
    "#     t = jnp.expand_dims(t, axis=-1)  # Ensure t is a column vector\n",
    "#     input = jnp.concatenate([y, t], axis=-1)\n",
    "#     return model(input)\n",
    "# term = ODETerm(wrapper)\n",
    "solver = Solver(model)"
   ]
  },
  {
   "cell_type": "code",
   "execution_count": 5,
   "id": "b845da95",
   "metadata": {},
   "outputs": [],
   "source": [
    "y = solver.sample(\n",
    "    jax.random.PRNGKey(0),\n",
    "    10)"
   ]
  },
  {
   "cell_type": "code",
   "execution_count": 6,
   "id": "5ebeafbd",
   "metadata": {},
   "outputs": [
    {
     "data": {
      "text/plain": [
       "Array([[ 1.6052856 ,  1.795202  ],\n",
       "       [-0.45093694, -0.30864018],\n",
       "       [ 0.1587591 , -1.2021123 ],\n",
       "       [-0.5126471 ,  0.26435208],\n",
       "       [ 0.64701885, -1.1801922 ],\n",
       "       [ 2.1622145 , -2.1851885 ],\n",
       "       [ 0.34122846, -0.07223853],\n",
       "       [ 1.2597322 ,  1.28041   ],\n",
       "       [ 0.9533114 ,  0.36956397],\n",
       "       [ 0.0073776 , -2.1464915 ]], dtype=float32)"
      ]
     },
     "execution_count": 6,
     "metadata": {},
     "output_type": "execute_result"
    }
   ],
   "source": [
    "y"
   ]
  },
  {
   "cell_type": "code",
   "execution_count": null,
   "id": "d78c3725",
   "metadata": {},
   "outputs": [],
   "source": []
  }
 ],
 "metadata": {
  "kernelspec": {
   "display_name": "flowmc (3.11.13)",
   "language": "python",
   "name": "python3"
  },
  "language_info": {
   "codemirror_mode": {
    "name": "ipython",
    "version": 3
   },
   "file_extension": ".py",
   "mimetype": "text/x-python",
   "name": "python",
   "nbconvert_exporter": "python",
   "pygments_lexer": "ipython3",
   "version": "3.11.13"
  }
 },
 "nbformat": 4,
 "nbformat_minor": 5
}
